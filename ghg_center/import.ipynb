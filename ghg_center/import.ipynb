{
 "cells": [
  {
   "cell_type": "code",
   "execution_count": null,
   "metadata": {},
   "outputs": [],
   "source": [
    "%pip install requests folium rasterstats pystac_client pandas matplotlib --quiet"
   ]
  },
  {
   "cell_type": "code",
   "execution_count": 1,
   "metadata": {},
   "outputs": [],
   "source": [
    "import requests\n",
    "import folium\n",
    "import pandas as pd\n",
    "import matplotlib.pyplot as plt\n",
    "from pystac_client import Client\n"
   ]
  },
  {
   "cell_type": "code",
   "execution_count": 2,
   "metadata": {},
   "outputs": [],
   "source": [
    "STAC_API_URL = \"https://earth.gov/ghgcenter/api/stac\"\n",
    "RASTER_API_URL = \"https://earth.gov/ghgcenter/api/raster\""
   ]
  },
  {
   "cell_type": "code",
   "execution_count": 3,
   "metadata": {},
   "outputs": [],
   "source": [
    "# Nome da coleção e ativos\n",
    "collection_name = \"micasa-carbonflux-daygrid-v1\"\n",
    "asset_fire = \"fire\"  # Emissões de incêndios\n",
    "asset_rh = \"rh\"      # Respiração heterotrófica\n",
    "\n",
    "# Definir o bounding box para o Brasil (-74.0, -33.0, -34.0, 5.0)\n",
    "bbox_brazil = [-74.0, -33.0, -34.0, 5.0]"
   ]
  },
  {
   "cell_type": "code",
   "execution_count": null,
   "metadata": {},
   "outputs": [],
   "source": [
    "# Requisição para obter os itens da coleção no Brasil\n",
    "response = requests.get(f\"{STAC_API_URL}/collections/{collection_name}/items\", params={\n",
    "    \"bbox\": bbox_brazil\n",
    "}).json()\n",
    "\n",
    "# Verificar o resultado da consulta\n",
    "# items = response['features']\n",
    "# print(f\"Total de itens encontrados: {len(items)}\")\n",
    "print(response)\n"
   ]
  },
  {
   "cell_type": "code",
   "execution_count": 7,
   "metadata": {},
   "outputs": [],
   "source": [
    "# Import the following libraries\n",
    "import requests\n",
    "import folium\n",
    "import folium.plugins\n",
    "from folium import Map, TileLayer\n",
    "from pystac_client import Client\n",
    "import branca\n",
    "import pandas as pd\n",
    "import matplotlib.pyplot as plt\n",
    "\n",
    "# Provide the STAC and RASTER API endpoints\n",
    "# The endpoint is referring to a location within the API that executes a request on a data collection nesting on the server.\n",
    "\n",
    "# The STAC API is a catalog of all the existing data collections that are stored in the GHG Center.\n",
    "STAC_API_URL = \"https://earth.gov/ghgcenter/api/stac\"\n",
    "\n",
    "# The RASTER API is used to fetch collections for visualization\n",
    "RASTER_API_URL = \"https://earth.gov/ghgcenter/api/raster\"\n",
    "\n",
    "# The collection name is used to fetch the dataset from the STAC API. First, we define the collection name as a variable\n",
    "# Name of the collection for MiCASA Land Carbon Flux\n",
    "collection_name = \"micasa-carbonflux-daygrid-v1\"\n",
    "\n",
    "# Next, we need to specify the asset name for this collection\n",
    "# The asset name is referring to the raster band containing the pixel values for the parameter of interest\n",
    "# For the case of the MiCASA Land Carbon Flux collection, the parameter of interest is “rh”\n",
    "# rh = Heterotrophic Respiration\n",
    "asset_name = \"rh\""
   ]
  },
  {
   "cell_type": "code",
   "execution_count": null,
   "metadata": {},
   "outputs": [],
   "source": [
    "# Fetch the collection from the STAC API using the appropriate endpoint\n",
    "# The 'requests' library allows a HTTP request possible\n",
    "collection = requests.get(f\"{STAC_API_URL}/collections/{collection_name}/items\").json()\n",
    "\n",
    "# Print the properties of the collection to the console\n",
    "collection"
   ]
  },
  {
   "cell_type": "code",
   "execution_count": null,
   "metadata": {},
   "outputs": [],
   "source": [
    "items = collection['features']\n",
    "print(f\"Total de itens encontrados: {len(items)}\")"
   ]
  },
  {
   "cell_type": "code",
   "execution_count": null,
   "metadata": {},
   "outputs": [],
   "source": [
    "# Função para filtrar os itens por tipo de ativo\n",
    "def filter_by_asset_type(items, asset_type):\n",
    "    return [item for item in items if asset_type in item['assets']]\n",
    "\n",
    "# Filtrar por incêndios e respiração heterotrófica\n",
    "fire_data = filter_by_asset_type(items, asset_fire)\n",
    "rh_data = filter_by_asset_type(items, asset_rh)\n",
    "\n",
    "print(f\"Dados de incêndios: {len(fire_data)} itens\")\n",
    "print(f\"Dados de respiração heterotrófica: {len(rh_data)} itens\")\n"
   ]
  },
  {
   "cell_type": "code",
   "execution_count": null,
   "metadata": {},
   "outputs": [],
   "source": [
    "# Criar um mapa centrado no Brasil\n",
    "map_brazil = folium.Map(location=[-14.235, -51.9253], zoom_start=4)\n",
    "\n",
    "# Adicionar camadas de incêndios\n",
    "for item in fire_data:\n",
    "    coords = item['geometry']['coordinates']\n",
    "    folium.Marker(location=[coords[1], coords[0]], popup=item['id']).add_to(map_brazil)\n",
    "\n",
    "# Exibir o mapa\n",
    "map_brazil\n"
   ]
  },
  {
   "cell_type": "code",
   "execution_count": null,
   "metadata": {},
   "outputs": [],
   "source": [
    "from rasterstats import zonal_stats\n",
    "\n",
    "# Exemplo de uma área poligonal (você pode usar shapefiles ou GeoJSON para definir áreas maiores)\n",
    "polygon = {\n",
    "    \"type\": \"Polygon\",\n",
    "    \"coordinates\": [[\n",
    "        [-60, -10], [-60, 0], [-50, 0], [-50, -10], [-60, -10]\n",
    "    ]]\n",
    "}\n",
    "\n",
    "# Executar as estatísticas zonais no dado de incêndios\n",
    "zonal_fire_stats = zonal_stats(polygon, fire_data[0]['assets'][asset_fire]['href'], stats=\"sum\")\n",
    "print(zonal_fire_stats)\n",
    "\n",
    "# Executar as estatísticas zonais no dado de respiração heterotrófica\n",
    "zonal_rh_stats = zonal_stats(polygon, rh_data[0]['assets'][asset_rh]['href'], stats=\"sum\")\n",
    "print(zonal_rh_stats)\n"
   ]
  },
  {
   "cell_type": "code",
   "execution_count": 16,
   "metadata": {},
   "outputs": [
    {
     "name": "stdout",
     "output_type": "stream",
     "text": [
      "Total de itens encontrados: 10\n"
     ]
    }
   ],
   "source": [
    "import requests\n",
    "import json\n",
    "import json\n",
    "\n",
    "# Definir a URL da API e os parâmetros\n",
    "STAC_API_URL = \"https://earth.gov/ghgcenter/api/stac\"\n",
    "collection_name = \"micasa-carbonflux-daygrid-v1\"\n",
    "bbox_brazil = [-74.0, -33.0, -34.0, 5.0]\n",
    "\n",
    "# # Fazer a requisição à API (usando /search para buscar com bbox)\n",
    "# response = requests.post(f\"{STAC_API_URL}/search\", json={\n",
    "#     \"collections\": [collection_name],\n",
    "#     \"bbox\": bbox_brazil\n",
    "# })\n",
    "\n",
    "response = requests.post(f\"{STAC_API_URL}/search\", json={\n",
    "    \"collections\": [collection_name],\n",
    "    \"bbox\": bbox_brazil,\n",
    "    \"limit\": 10  # Ajustar o limite para o máximo permitido\n",
    "})\n",
    "\n",
    "\n",
    "# Verificar o status HTTP da resposta\n",
    "if response.status_code != 200:\n",
    "    print(f\"Erro na requisição: {response.status_code}\")\n",
    "    print(response.text)\n",
    "else:\n",
    "    # Converter a resposta para JSON e verificar o conteúdo\n",
    "    data = response.json()\n",
    "    # print(json.dumps(data, indent=4))  # Imprimir a resposta JSON formatada)\n",
    "\n",
    "    # Tentar acessar os 'features', se existir\n",
    "    if 'features' in data:\n",
    "        all_items = data['features']\n",
    "        print(f\"Total de itens encontrados: {len(items)}\")\n",
    "    else:\n",
    "        print(\"Nenhuma chave 'features' encontrada na resposta.\")\n"
   ]
  },
  {
   "cell_type": "code",
   "execution_count": 17,
   "metadata": {},
   "outputs": [
    {
     "name": "stdout",
     "output_type": "stream",
     "text": [
      "Total de registros: 10\n"
     ]
    }
   ],
   "source": [
    "import matplotlib.pyplot as plt\n",
    "from datetime import datetime\n",
    "\n",
    "# Lista para armazenar as datas e as intensidades\n",
    "datas = []\n",
    "emissoes_incendio = []\n",
    "\n",
    "# Suponha que `all_items` contenha todos os itens que você capturou da API\n",
    "for item in all_items:\n",
    "    # Extrair a data do item\n",
    "    properties = item.get('properties', {})\n",
    "    datetime_str = properties.get('datetime')\n",
    "    \n",
    "    # Extrair os dados de emissões de incêndio (fire) do campo 'assets'\n",
    "    assets = item.get('assets', {})\n",
    "    fire_data = assets.get('fire', {})\n",
    "    \n",
    "    # Extrair os metadados de interesse em raster:bands\n",
    "    raster_bands = fire_data.get('raster:bands', [])\n",
    "    if raster_bands:\n",
    "        fire_stats = raster_bands[0].get('statistics', {})\n",
    "        fire_mean = fire_stats.get('mean', 0)  # Valor médio de emissão de incêndio\n",
    "\n",
    "        # Armazenar data e valor de emissão\n",
    "        if datetime_str and fire_mean:\n",
    "            datas.append(datetime.fromisoformat(datetime_str.replace(\"Z\", \"\")))\n",
    "            emissoes_incendio.append(fire_mean)\n",
    "\n",
    "# Verificar os dados coletados\n",
    "print(f\"Total de registros: {len(emissoes_incendio)}\")\n"
   ]
  },
  {
   "cell_type": "code",
   "execution_count": 18,
   "metadata": {},
   "outputs": [
    {
     "data": {
      "image/png": "[encoded data removed]",
      "text/plain": [
       "<Figure size 1000x600 with 1 Axes>"
      ]
     },
     "metadata": {},
     "output_type": "display_data"
    }
   ],
   "source": [
    "# Criar o gráfico de emissões de incêndio ao longo do tempo\n",
    "plt.figure(figsize=(10, 6))\n",
    "\n",
    "# Plotar a linha\n",
    "plt.plot(datas, emissoes_incendio, marker='o', linestyle='-', color='red')\n",
    "\n",
    "# Adicionar título e rótulos aos eixos\n",
    "plt.title(\"Emissões de Incêndios Florestais no Brasil ao Longo do Tempo\")\n",
    "plt.xlabel(\"Data\")\n",
    "plt.ylabel(\"Emissão de Carbono (g C m-2 day-1)\")\n",
    "\n",
    "# Melhorar a visualização\n",
    "plt.xticks(rotation=45)  # Rotacionar as datas para melhor visualização\n",
    "plt.grid(True)           # Adicionar uma grade\n",
    "\n",
    "# Exibir o gráfico\n",
    "plt.tight_layout()\n",
    "plt.show()\n"
   ]
  },
  {
   "cell_type": "code",
   "execution_count": 19,
   "metadata": {},
   "outputs": [],
   "source": [
    "# Limite de coordenadas do Brasil (aproximado)\n",
    "bbox_brazil = [-74.0, -33.0, -34.0, 5.0]\n",
    "\n",
    "# Filtrar os itens que estão dentro da bounding box do Brasil\n",
    "for item in all_items:\n",
    "    bbox = item.get('bbox', [])\n",
    "    if bbox and bbox[0] >= bbox_brazil[0] and bbox[1] >= bbox_brazil[1] and bbox[2] <= bbox_brazil[2] and bbox[3] <= bbox_brazil[3]:\n",
    "        # Este item está dentro do Brasil, prossiga com o processamento\n",
    "        # (processar o mesmo código de extração de emissões)\n",
    "        pass\n"
   ]
  },
  {
   "cell_type": "code",
   "execution_count": null,
   "metadata": {},
   "outputs": [],
   "source": []
  },
  {
   "cell_type": "code",
   "execution_count": null,
   "metadata": {},
   "outputs": [],
   "source": [
    "import requests\n",
    "\n",
    "# Definir a URL da API e os parâmetros\n",
    "STAC_API_URL = \"https://earth.gov/ghgcenter/api/stac\"\n",
    "collection_name = \"micasa-carbonflux-daygrid-v1\"\n",
    "bbox_brazil = [-74.0, -33.0, -34.0, 5.0]\n",
    "\n",
    "# Inicializar variáveis para armazenar todos os itens\n",
    "all_items = []\n",
    "limit = 1000  # Limite de itens por página\n",
    "page = 1\n",
    "has_more = True\n",
    "\n",
    "while has_more:\n",
    "    # Fazer a requisição à API (com paginação)\n",
    "    response = requests.post(f\"{STAC_API_URL}/search\", json={\n",
    "        \"collections\": [collection_name],\n",
    "        \"bbox\": bbox_brazil,\n",
    "        \"limit\": limit,\n",
    "        \"page\": page  # Passar o número da página\n",
    "    }).json()\n",
    "    \n",
    "    # Verificar se há 'features' na resposta\n",
    "    if 'features' in response:\n",
    "        items = response['features']\n",
    "        all_items.extend(items)\n",
    "        print(f\"Página {page}: {len(items)} itens encontrados.\")\n",
    "        \n",
    "        # Checar se há mais páginas (verificar contexto ou contagem)\n",
    "        has_more = len(items) == limit  # Se a página tiver o máximo de itens, talvez haja mais\n",
    "        page += 1\n",
    "    else:\n",
    "        has_more = False\n",
    "        print(\"Nenhuma chave 'features' encontrada na resposta.\")\n",
    "\n",
    "print(f\"Total de itens encontrados: {len(all_items)}\")\n"
   ]
  },
  {
   "cell_type": "code",
   "execution_count": null,
   "metadata": {},
   "outputs": [],
   "source": []
  }
 ],
 "metadata": {
  "kernelspec": {
   "display_name": "Python 3",
   "language": "python",
   "name": "python3"
  },
  "language_info": {
   "codemirror_mode": {
    "name": "ipython",
    "version": 3
   },
   "file_extension": ".py",
   "mimetype": "text/x-python",
   "name": "python",
   "nbconvert_exporter": "python",
   "pygments_lexer": "ipython3",
   "version": "3.12.4"
  }
 },
 "nbformat": 4,
 "nbformat_minor": 2
}
